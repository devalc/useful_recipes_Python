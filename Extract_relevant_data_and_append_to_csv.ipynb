{
 "cells": [
  {
   "cell_type": "code",
   "execution_count": 1,
   "id": "d38c07fa",
   "metadata": {},
   "outputs": [],
   "source": [
    "import os\n",
    "import pandas as pd"
   ]
  },
  {
   "cell_type": "code",
   "execution_count": 2,
   "id": "43eef8f3",
   "metadata": {},
   "outputs": [
    {
     "name": "stdout",
     "output_type": "stream",
     "text": [
      "D:\\OneDrive - University of Idaho\\LITCropSyst\\00_Files_from_Julia_Reese\\Reese_LITCropSyst\\Scenarios\\Reese_final,calibrated(w.N)\\Output\\Genessee\\ASP\\CC2(D)\\season.xlsx\n",
      "D:\\OneDrive - University of Idaho\\LITCropSyst\\00_Files_from_Julia_Reese\\Reese_LITCropSyst\\Scenarios\\Reese_final,calibrated(w.N)\\Output\\Genessee\\ASP\\CP2(H)\\season.xlsx\n",
      "D:\\OneDrive - University of Idaho\\LITCropSyst\\00_Files_from_Julia_Reese\\Reese_LITCropSyst\\Scenarios\\Reese_final,calibrated(w.N)\\Output\\Genessee\\ASP\\WW2(E)\\season.xlsx\n",
      "D:\\OneDrive - University of Idaho\\LITCropSyst\\00_Files_from_Julia_Reese\\Reese_LITCropSyst\\Scenarios\\Reese_final,calibrated(w.N)\\Output\\Genessee\\BAU\\CP3(A)\\season.xlsx\n",
      "D:\\OneDrive - University of Idaho\\LITCropSyst\\00_Files_from_Julia_Reese\\Reese_LITCropSyst\\Scenarios\\Reese_final,calibrated(w.N)\\Output\\Genessee\\BAU\\SW3(C)\\season.xlsx\n",
      "D:\\OneDrive - University of Idaho\\LITCropSyst\\00_Files_from_Julia_Reese\\Reese_LITCropSyst\\Scenarios\\Reese_final,calibrated(w.N)\\Output\\Genessee\\BAU\\WW3(I)\\season.xlsx\n",
      "D:\\OneDrive - University of Idaho\\LITCropSyst\\00_Files_from_Julia_Reese\\Reese_LITCropSyst\\Scenarios\\Reese_final,calibrated(w.N)\\Output\\Genessee\\INC\\SW1(F)\\season.xlsx\n",
      "D:\\OneDrive - University of Idaho\\LITCropSyst\\00_Files_from_Julia_Reese\\Reese_LITCropSyst\\Scenarios\\Reese_final,calibrated(w.N)\\Output\\Genessee\\INC\\WP1(B)\\season.xlsx\n",
      "D:\\OneDrive - University of Idaho\\LITCropSyst\\00_Files_from_Julia_Reese\\Reese_LITCropSyst\\Scenarios\\Reese_final,calibrated(w.N)\\Output\\Genessee\\INC\\WW1(G)\\season.xlsx\n",
      "D:\\OneDrive - University of Idaho\\LITCropSyst\\00_Files_from_Julia_Reese\\Reese_LITCropSyst\\Scenarios\\Reese_final,calibrated(w.N)\\Output\\St.John\\ASP\\CC2(G)\\season.xlsx\n",
      "D:\\OneDrive - University of Idaho\\LITCropSyst\\00_Files_from_Julia_Reese\\Reese_LITCropSyst\\Scenarios\\Reese_final,calibrated(w.N)\\Output\\St.John\\ASP\\SW2(C)\\season.xlsx\n",
      "D:\\OneDrive - University of Idaho\\LITCropSyst\\00_Files_from_Julia_Reese\\Reese_LITCropSyst\\Scenarios\\Reese_final,calibrated(w.N)\\Output\\St.John\\ASP\\WW2(H)\\season.xlsx\n",
      "D:\\OneDrive - University of Idaho\\LITCropSyst\\00_Files_from_Julia_Reese\\Reese_LITCropSyst\\Scenarios\\Reese_final,calibrated(w.N)\\Output\\St.John\\BAU\\F(B)\\season.xlsx\n",
      "D:\\OneDrive - University of Idaho\\LITCropSyst\\00_Files_from_Julia_Reese\\Reese_LITCropSyst\\Scenarios\\Reese_final,calibrated(w.N)\\Output\\St.John\\BAU\\SW3(I)\\season.xlsx\n",
      "D:\\OneDrive - University of Idaho\\LITCropSyst\\00_Files_from_Julia_Reese\\Reese_LITCropSyst\\Scenarios\\Reese_final,calibrated(w.N)\\Output\\St.John\\BAU\\WW3(F)\\season.xlsx\n",
      "D:\\OneDrive - University of Idaho\\LITCropSyst\\00_Files_from_Julia_Reese\\Reese_LITCropSyst\\Scenarios\\Reese_final,calibrated(w.N)\\Output\\St.John\\INC\\SW1(E)\\season.xlsx\n",
      "D:\\OneDrive - University of Idaho\\LITCropSyst\\00_Files_from_Julia_Reese\\Reese_LITCropSyst\\Scenarios\\Reese_final,calibrated(w.N)\\Output\\St.John\\INC\\WP1(A)\\season.xlsx\n",
      "D:\\OneDrive - University of Idaho\\LITCropSyst\\00_Files_from_Julia_Reese\\Reese_LITCropSyst\\Scenarios\\Reese_final,calibrated(w.N)\\Output\\St.John\\INC\\WW1(D)\\season.xlsx\n",
      "      crop_type harvest_date  yield_kg_ha  above_ground_biomass_kg_ha  \\\n",
      "0  COVER winter   2018-06-20  4115.569033                 5139.461214   \n",
      "1      ChickPea   2019-09-06  1645.335909                 3671.227248   \n",
      "2  winter wheat   2020-08-05  7648.235368                17489.759695   \n",
      "3  COVER winter   2021-07-01  3650.129144                 4557.661362   \n",
      "4      ChickPea   2018-08-24  1542.867954                 3799.302332   \n",
      "\n",
      "   location scenario rotation harvest_year  \n",
      "0  Genessee      ASP   CC2(D)         2018  \n",
      "1  Genessee      ASP   CC2(D)         2019  \n",
      "2  Genessee      ASP   CC2(D)         2020  \n",
      "3  Genessee      ASP   CC2(D)         2021  \n",
      "4  Genessee      ASP   CP2(H)         2018  \n",
      "Final DataFrame written to D:\\OneDrive - University of Idaho\\LITCropSyst\\03_Scripts\\merged_data\\merged_data.csv\n"
     ]
    }
   ],
   "source": [
    "# path to root dir\n",
    "root_directory = \"D:\\\\OneDrive - University of Idaho\\\\LITCropSyst\\\\00_Files_from_Julia_Reese\\\\Reese_LITCropSyst\\\\Scenarios\\\\Reese_final,calibrated(w.N)\\\\Output\"  # Replace with the path to your root directory\n",
    "#pattern to search for\n",
    "file_extension = 'season.xlsx'\n",
    "#Output file for merged output\n",
    "output_file_path = \"D:\\\\OneDrive - University of Idaho\\\\LITCropSyst\\\\03_Scripts\\\\merged_data\\\\merged_data.csv\"\n",
    "\n",
    "# Set column names\n",
    "column_names = ['crop_type', 'harvest_date', 'yield_kg_ha', 'above_ground_biomass_kg_ha']\n",
    "\n",
    "# Initialize an empty list to store the DataFrame\n",
    "dfs = []\n",
    "\n",
    "# Walk through all directories and subdirectories\n",
    "for root, dirs, files in os.walk(root_directory):\n",
    "    for file in files:\n",
    "        # Check if the file ends with the specified extension\n",
    "        if file.endswith(file_extension):\n",
    "            # Print the full path to the file\n",
    "            file_path = os.path.join(root, file)\n",
    "            print(file_path)\n",
    "            \n",
    "            # Split the file path\n",
    "            path_parts = file_path.split(os.path.sep)\n",
    "            \n",
    "            # Extract the last 4 parts\n",
    "            last_4_parts = path_parts[-4:]\n",
    "            \n",
    "            \n",
    "#             print(last_4_parts[0])\n",
    "#             print(last_4_parts[1])\n",
    "#             print(last_4_parts[2])\n",
    "        \n",
    "            \n",
    "            # Read Excel file into a DataFrame, skipping the first 11 rows\n",
    "            df = pd.read_excel(file_path, skiprows=11, header=None)\n",
    "            df = df.iloc[:, [0, 7, 16, 21]]\n",
    "            df.columns = column_names\n",
    "            \n",
    "            df['location'] = last_4_parts[0]\n",
    "            df['scenario'] = last_4_parts[1]\n",
    "            df['rotation'] = last_4_parts[2]\n",
    "            \n",
    "            # Extract year part from 'harvest_date' column\n",
    "            df['harvest_year'] = df['harvest_date'].str.split('-').str[0]\n",
    "\n",
    "            # Append DataFrame to the list\n",
    "            dfs.append(df)\n",
    "            \n",
    "final_df = pd.concat(dfs, ignore_index=True)\n",
    "            \n",
    "print(final_df.head())\n",
    "\n",
    "# Write the final_df to a CSV file \n",
    "final_df.to_csv(output_file_path, index=False)\n",
    "\n",
    "print(f\"Final DataFrame written to {output_file_path}\")"
   ]
  },
  {
   "cell_type": "code",
   "execution_count": null,
   "id": "56917dd0",
   "metadata": {},
   "outputs": [],
   "source": []
  }
 ],
 "metadata": {
  "kernelspec": {
   "display_name": "Python 3 (ipykernel)",
   "language": "python",
   "name": "python3"
  },
  "language_info": {
   "codemirror_mode": {
    "name": "ipython",
    "version": 3
   },
   "file_extension": ".py",
   "mimetype": "text/x-python",
   "name": "python",
   "nbconvert_exporter": "python",
   "pygments_lexer": "ipython3",
   "version": "3.11.3"
  }
 },
 "nbformat": 4,
 "nbformat_minor": 5
}
