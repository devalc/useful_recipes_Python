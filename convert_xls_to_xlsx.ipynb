{
 "cells": [
  {
   "cell_type": "code",
   "execution_count": 4,
   "id": "ce396987",
   "metadata": {},
   "outputs": [
    {
     "name": "stdout",
     "output_type": "stream",
     "text": [
      "*** No CODEPAGE record, no encoding_override: will use 'iso-8859-1'\n",
      "Conversion complete. Output saved to D:\\OneDrive - University of Idaho\\LITCropSyst\\00_Files_from_Julia_Reese\\Reese_LITCropSyst\\Scenarios\\Reese_final,calibrated(w.N)\\Output\\Genessee\\ASP\\CC2(D)\\season.xlsx\n",
      "*** No CODEPAGE record, no encoding_override: will use 'iso-8859-1'\n",
      "Conversion complete. Output saved to D:\\OneDrive - University of Idaho\\LITCropSyst\\00_Files_from_Julia_Reese\\Reese_LITCropSyst\\Scenarios\\Reese_final,calibrated(w.N)\\Output\\Genessee\\ASP\\CP2(H)\\season.xlsx\n",
      "*** No CODEPAGE record, no encoding_override: will use 'iso-8859-1'\n",
      "Conversion complete. Output saved to D:\\OneDrive - University of Idaho\\LITCropSyst\\00_Files_from_Julia_Reese\\Reese_LITCropSyst\\Scenarios\\Reese_final,calibrated(w.N)\\Output\\Genessee\\ASP\\WW2(E)\\season.xlsx\n",
      "*** No CODEPAGE record, no encoding_override: will use 'iso-8859-1'\n",
      "Conversion complete. Output saved to D:\\OneDrive - University of Idaho\\LITCropSyst\\00_Files_from_Julia_Reese\\Reese_LITCropSyst\\Scenarios\\Reese_final,calibrated(w.N)\\Output\\Genessee\\BAU\\CP3(A)\\season.xlsx\n",
      "*** No CODEPAGE record, no encoding_override: will use 'iso-8859-1'\n",
      "Conversion complete. Output saved to D:\\OneDrive - University of Idaho\\LITCropSyst\\00_Files_from_Julia_Reese\\Reese_LITCropSyst\\Scenarios\\Reese_final,calibrated(w.N)\\Output\\Genessee\\BAU\\SW3(C)\\season.xlsx\n",
      "*** No CODEPAGE record, no encoding_override: will use 'iso-8859-1'\n",
      "Conversion complete. Output saved to D:\\OneDrive - University of Idaho\\LITCropSyst\\00_Files_from_Julia_Reese\\Reese_LITCropSyst\\Scenarios\\Reese_final,calibrated(w.N)\\Output\\Genessee\\BAU\\WW3(I)\\season.xlsx\n",
      "*** No CODEPAGE record, no encoding_override: will use 'iso-8859-1'\n",
      "Conversion complete. Output saved to D:\\OneDrive - University of Idaho\\LITCropSyst\\00_Files_from_Julia_Reese\\Reese_LITCropSyst\\Scenarios\\Reese_final,calibrated(w.N)\\Output\\Genessee\\INC\\SW1(F)\\season.xlsx\n",
      "*** No CODEPAGE record, no encoding_override: will use 'iso-8859-1'\n",
      "Conversion complete. Output saved to D:\\OneDrive - University of Idaho\\LITCropSyst\\00_Files_from_Julia_Reese\\Reese_LITCropSyst\\Scenarios\\Reese_final,calibrated(w.N)\\Output\\Genessee\\INC\\WP1(B)\\season.xlsx\n",
      "*** No CODEPAGE record, no encoding_override: will use 'iso-8859-1'\n",
      "Conversion complete. Output saved to D:\\OneDrive - University of Idaho\\LITCropSyst\\00_Files_from_Julia_Reese\\Reese_LITCropSyst\\Scenarios\\Reese_final,calibrated(w.N)\\Output\\Genessee\\INC\\WW1(G)\\season.xlsx\n",
      "*** No CODEPAGE record, no encoding_override: will use 'iso-8859-1'\n",
      "Conversion complete. Output saved to D:\\OneDrive - University of Idaho\\LITCropSyst\\00_Files_from_Julia_Reese\\Reese_LITCropSyst\\Scenarios\\Reese_final,calibrated(w.N)\\Output\\St.John\\ASP\\CC2(G)\\season.xlsx\n",
      "*** No CODEPAGE record, no encoding_override: will use 'iso-8859-1'\n",
      "Conversion complete. Output saved to D:\\OneDrive - University of Idaho\\LITCropSyst\\00_Files_from_Julia_Reese\\Reese_LITCropSyst\\Scenarios\\Reese_final,calibrated(w.N)\\Output\\St.John\\ASP\\SW2(C)\\season.xlsx\n",
      "*** No CODEPAGE record, no encoding_override: will use 'iso-8859-1'\n",
      "Conversion complete. Output saved to D:\\OneDrive - University of Idaho\\LITCropSyst\\00_Files_from_Julia_Reese\\Reese_LITCropSyst\\Scenarios\\Reese_final,calibrated(w.N)\\Output\\St.John\\ASP\\WW2(H)\\season.xlsx\n",
      "*** No CODEPAGE record, no encoding_override: will use 'iso-8859-1'\n",
      "Conversion complete. Output saved to D:\\OneDrive - University of Idaho\\LITCropSyst\\00_Files_from_Julia_Reese\\Reese_LITCropSyst\\Scenarios\\Reese_final,calibrated(w.N)\\Output\\St.John\\BAU\\F(B)\\season.xlsx\n",
      "*** No CODEPAGE record, no encoding_override: will use 'iso-8859-1'\n",
      "Conversion complete. Output saved to D:\\OneDrive - University of Idaho\\LITCropSyst\\00_Files_from_Julia_Reese\\Reese_LITCropSyst\\Scenarios\\Reese_final,calibrated(w.N)\\Output\\St.John\\BAU\\SW3(I)\\season.xlsx\n",
      "*** No CODEPAGE record, no encoding_override: will use 'iso-8859-1'\n",
      "Conversion complete. Output saved to D:\\OneDrive - University of Idaho\\LITCropSyst\\00_Files_from_Julia_Reese\\Reese_LITCropSyst\\Scenarios\\Reese_final,calibrated(w.N)\\Output\\St.John\\BAU\\WW3(F)\\season.xlsx\n",
      "*** No CODEPAGE record, no encoding_override: will use 'iso-8859-1'\n",
      "Conversion complete. Output saved to D:\\OneDrive - University of Idaho\\LITCropSyst\\00_Files_from_Julia_Reese\\Reese_LITCropSyst\\Scenarios\\Reese_final,calibrated(w.N)\\Output\\St.John\\INC\\SW1(E)\\season.xlsx\n",
      "*** No CODEPAGE record, no encoding_override: will use 'iso-8859-1'\n",
      "Conversion complete. Output saved to D:\\OneDrive - University of Idaho\\LITCropSyst\\00_Files_from_Julia_Reese\\Reese_LITCropSyst\\Scenarios\\Reese_final,calibrated(w.N)\\Output\\St.John\\INC\\WP1(A)\\season.xlsx\n",
      "*** No CODEPAGE record, no encoding_override: will use 'iso-8859-1'\n",
      "Conversion complete. Output saved to D:\\OneDrive - University of Idaho\\LITCropSyst\\00_Files_from_Julia_Reese\\Reese_LITCropSyst\\Scenarios\\Reese_final,calibrated(w.N)\\Output\\St.John\\INC\\WW1(D)\\season.xlsx\n"
     ]
    }
   ],
   "source": [
    "import os\n",
    "import pandas as pd\n",
    "\n",
    "def find_files(directory, file_extension):\n",
    "    found_files = []\n",
    "\n",
    "    for root, dirs, files in os.walk(directory):\n",
    "        for file in files:\n",
    "            if file.endswith(file_extension):\n",
    "                found_files.append(os.path.join(root, file))\n",
    "\n",
    "    return found_files\n",
    "\n",
    "def convert_xls_to_xlsx(input_path, output_path):\n",
    "    # Read the XLS file\n",
    "    df = pd.read_excel(input_path, engine='xlrd')  # Use 'xlrd' engine for reading XLS files\n",
    "\n",
    "    # Write to XLSX file\n",
    "    df.to_excel(output_path, index=False)\n",
    "\n",
    "if __name__ == \"__main__\":\n",
    "    # Specify the root directory to start searching\n",
    "    root_directory = \"D:\\\\OneDrive - University of Idaho\\\\LITCropSyst\\\\00_Files_from_Julia_Reese\\\\Reese_LITCropSyst\\\\Scenarios\\\\Reese_final,calibrated(w.N)\\\\Output\"\n",
    "    \n",
    "    # Specify the file extension to filter for\n",
    "    file_extension = 'season.xls'\n",
    "\n",
    "    # Find files matching the criteria\n",
    "    matching_files = find_files(root_directory, file_extension)\n",
    "\n",
    "    # Convert each matching file to XLSX\n",
    "    for input_file_path in matching_files:\n",
    "        # Output file path with the same name but XLSX extension\n",
    "        output_file_path = os.path.splitext(input_file_path)[0] + '.xlsx'\n",
    "\n",
    "        # Perform the conversion\n",
    "        convert_xls_to_xlsx(input_file_path, output_file_path)\n",
    "\n",
    "        print(f\"Conversion complete. Output saved to {output_file_path}\")\n"
   ]
  },
  {
   "cell_type": "code",
   "execution_count": null,
   "id": "41eb214e",
   "metadata": {},
   "outputs": [],
   "source": []
  }
 ],
 "metadata": {
  "kernelspec": {
   "display_name": "Python 3 (ipykernel)",
   "language": "python",
   "name": "python3"
  },
  "language_info": {
   "codemirror_mode": {
    "name": "ipython",
    "version": 3
   },
   "file_extension": ".py",
   "mimetype": "text/x-python",
   "name": "python",
   "nbconvert_exporter": "python",
   "pygments_lexer": "ipython3",
   "version": "3.11.3"
  }
 },
 "nbformat": 4,
 "nbformat_minor": 5
}
